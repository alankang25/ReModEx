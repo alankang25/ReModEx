{
 "cells": [
  {
   "cell_type": "code",
   "execution_count": null,
   "id": "52c70a60",
   "metadata": {},
   "outputs": [],
   "source": [
    "\"\"\"\n",
    "For ChIP-seq data, download ENCODE metadata TSV file and filter it\n",
    "\"\"\"\n",
    "# user‐configurable parameters\n",
    "encode_tsv = \"/mnt/disk/home/akang/projects/manuscript/data/input/TF_files.tsv\"\n",
    "assay_type  = \"TF\"          # \"TF\" or \"histone\"\n",
    "min_peaks   = 1000\n",
    "n_threads   = 4\n",
    "output_dir  = \"../data/bed\""
   ]
  },
  {
   "cell_type": "code",
   "execution_count": null,
   "id": "5e14543a",
   "metadata": {},
   "outputs": [],
   "source": [
    "# imports and functions\n"
   ]
  }
 ],
 "metadata": {
  "kernelspec": {
   "display_name": "myenv",
   "language": "python",
   "name": "python3"
  },
  "language_info": {
   "name": "python",
   "version": "3.12.2"
  }
 },
 "nbformat": 4,
 "nbformat_minor": 5
}
